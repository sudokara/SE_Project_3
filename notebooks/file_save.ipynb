{
 "cells": [
  {
   "cell_type": "code",
   "execution_count": 28,
   "metadata": {},
   "outputs": [
    {
     "data": {
      "text/plain": [
       "7"
      ]
     },
     "execution_count": 28,
     "metadata": {},
     "output_type": "execute_result"
    }
   ],
   "source": [
    "7"
   ]
  },
  {
   "cell_type": "markdown",
   "metadata": {},
   "source": [
    "## Gdrive"
   ]
  },
  {
   "cell_type": "code",
   "execution_count": 29,
   "metadata": {},
   "outputs": [
    {
     "name": "stdout",
     "output_type": "stream",
     "text": [
      "Requirement already satisfied: google-api-python-client in /home/prakhar/miniconda3/envs/deeprl/lib/python3.10/site-packages (2.126.0)\n",
      "^C\n",
      "\u001b[31mERROR: Operation cancelled by user\u001b[0m\u001b[31m\n",
      "\u001b[0m"
     ]
    }
   ],
   "source": [
    "!pip install --upgrade google-api-python-client google-auth-httplib2 google-auth-oauthlib"
   ]
  },
  {
   "cell_type": "code",
   "execution_count": null,
   "metadata": {},
   "outputs": [],
   "source": [
    "from google.oauth2.credentials import Credentials\n",
    "from google_auth_oauthlib.flow import InstalledAppFlow\n",
    "from google.auth.transport.requests import Request\n",
    "from googleapiclient.discovery import build\n",
    "from googleapiclient.http import MediaFileUpload\n",
    "import os\n",
    "from googleapiclient.http import MediaIoBaseDownload\n",
    "import io\n",
    "import pandas as pd\n",
    "\n",
    "# Scopes required by the app\n",
    "\n",
    "def get_service():\n",
    "    SCOPES = ['https://www.googleapis.com/auth/drive.file']\n",
    "\n",
    "    creds = None\n",
    "    # The file token.json stores the user's access and refresh tokens, and is\n",
    "    # created automatically when the authorization flow completes for the first time.\n",
    "    if os.path.exists('token.json'):\n",
    "        creds = Credentials.from_authorized_user_file('token.json', SCOPES)\n",
    "    # If there are no (valid) credentials available, let the user log in.\n",
    "    if not creds or not creds.valid:\n",
    "        if creds and creds.expired and creds.refresh_token:\n",
    "            creds.refresh(Request())\n",
    "        else:\n",
    "            flow = InstalledAppFlow.from_client_secrets_file(\n",
    "                'credentials.json', SCOPES)\n",
    "            creds = flow.run_local_server(port=0)\n",
    "        # Save the credentials for the next run\n",
    "        with open('token.json', 'w') as token:\n",
    "            token.write(creds.to_json())\n",
    "\n",
    "    service = build('drive', 'v3', credentials=creds)\n",
    "    return service\n",
    "\n",
    "\n",
    "def gdrive_file_upload(filename, gdrive_folder_id):\n",
    "    service = get_service()\n",
    "\n",
    "    # File to upload\n",
    "    file_metadata = {'name': filename, 'parents': [gdrive_folder_id]}\n",
    "    media = MediaFileUpload(filename, mimetype='application/zip')\n",
    "    file = service.files().create(body=file_metadata,\n",
    "                                    media_body=media,\n",
    "                                    fields='id').execute()\n",
    "    file_id = file.get('id')\n",
    "    csv_file = 'log.csv'\n",
    "\n",
    "    df = pd.DataFrame(columns=['File Name', 'File ID', 'time'])\n",
    "    df = df.append({'File Name': filename, 'File ID': file_id, 'time': pd.Timestamp.now()}, ignore_index=True)\n",
    "    if os.path.exists(csv_file):\n",
    "        df.to_csv(csv_file, mode='a', header=False, index=False)\n",
    "    \n",
    "    return file.get('id')\n",
    "\n",
    "def gdrive_file_download(filename, gdrive_file_id):\n",
    "    service = get_service()\n",
    "    request = service.files().get_media(fileId=gdrive_file_id)\n",
    "    \n",
    "    # Replace 'filename' with the path where you want to save the downloaded file\n",
    "    fh = io.FileIO(filename, mode='wb')\n",
    "    downloader = MediaIoBaseDownload(fh, request)\n",
    "    \n",
    "    done = False\n",
    "    while not done:\n",
    "        status, done = downloader.next_chunk()\n",
    "        print(\"Download Progress: {0}\".format(status.progress() * 100))\n",
    "\n",
    "    fh.close()\n",
    "    print(\"File has been downloaded successfully.\")\n",
    "\n"
   ]
  },
  {
   "cell_type": "code",
   "execution_count": null,
   "metadata": {},
   "outputs": [
    {
     "name": "stdout",
     "output_type": "stream",
     "text": [
      "File has been uploaded successfully. File ID: 1UIrOrxgAfFdjPdUugqhTBojY29CtXGEm\n"
     ]
    },
    {
     "name": "stderr",
     "output_type": "stream",
     "text": [
      "C:\\Users\\user\\AppData\\Local\\Temp\\ipykernel_12816\\2523878073.py:50: FutureWarning: The frame.append method is deprecated and will be removed from pandas in a future version. Use pandas.concat instead.\n",
      "  df = df.append({'File Name': filename, 'File ID': file_id, 'time': pd.Timestamp.now()}, ignore_index=True)\n"
     ]
    }
   ],
   "source": [
    "file = 'data/example1.zip'\n",
    "gdrive_folder_id = '1te7ArAHuMquqmWhjmO-FniTE47O4mts7'\n",
    "uploaded_file_id = gdrive_file_upload(file, gdrive_folder_id)\n",
    "print(f\"File has been uploaded successfully. File ID: {uploaded_file_id}\")"
   ]
  },
  {
   "cell_type": "code",
   "execution_count": null,
   "metadata": {},
   "outputs": [
    {
     "name": "stdout",
     "output_type": "stream",
     "text": [
      "Download Progress: 100.0\n",
      "File has been downloaded successfully.\n"
     ]
    }
   ],
   "source": [
    "file = 'data/filename.zip'\n",
    "gdrive_file_id = uploaded_file_id\n",
    "gdrive_file_download(file, gdrive_file_id)"
   ]
  },
  {
   "cell_type": "markdown",
   "metadata": {},
   "source": [
    "## Azure"
   ]
  },
  {
   "cell_type": "code",
   "execution_count": null,
   "metadata": {},
   "outputs": [
    {
     "name": "stdout",
     "output_type": "stream",
     "text": [
      "Defaulting to user installation because normal site-packages is not writeableNote: you may need to restart the kernel to use updated packages.\n",
      "\n",
      "Collecting msal\n",
      "  Downloading msal-1.28.0-py3-none-any.whl (102 kB)\n",
      "     ------------------------------------ 102.2/102.2 kB 309.5 kB/s eta 0:00:00\n",
      "Requirement already satisfied: cryptography<45,>=0.6 in c:\\programdata\\anaconda3\\lib\\site-packages (from msal) (37.0.1)\n",
      "Requirement already satisfied: PyJWT[crypto]<3,>=1.0.0 in c:\\programdata\\anaconda3\\lib\\site-packages (from msal) (2.4.0)\n",
      "Requirement already satisfied: requests<3,>=2.0.0 in c:\\programdata\\anaconda3\\lib\\site-packages (from msal) (2.28.1)\n",
      "Requirement already satisfied: cffi>=1.12 in c:\\programdata\\anaconda3\\lib\\site-packages (from cryptography<45,>=0.6->msal) (1.15.1)\n",
      "Requirement already satisfied: certifi>=2017.4.17 in c:\\programdata\\anaconda3\\lib\\site-packages (from requests<3,>=2.0.0->msal) (2022.9.14)\n",
      "Requirement already satisfied: charset-normalizer<3,>=2 in c:\\programdata\\anaconda3\\lib\\site-packages (from requests<3,>=2.0.0->msal) (2.0.4)\n",
      "Requirement already satisfied: idna<4,>=2.5 in c:\\programdata\\anaconda3\\lib\\site-packages (from requests<3,>=2.0.0->msal) (3.3)\n",
      "Requirement already satisfied: urllib3<1.27,>=1.21.1 in c:\\programdata\\anaconda3\\lib\\site-packages (from requests<3,>=2.0.0->msal) (1.26.11)\n",
      "Requirement already satisfied: pycparser in c:\\programdata\\anaconda3\\lib\\site-packages (from cffi>=1.12->cryptography<45,>=0.6->msal) (2.21)\n",
      "Installing collected packages: msal\n",
      "Successfully installed msal-1.28.0\n"
     ]
    }
   ],
   "source": [
    "%pip install msal"
   ]
  },
  {
   "cell_type": "code",
   "execution_count": 1,
   "metadata": {},
   "outputs": [],
   "source": [
    "from msal import PublicClientApplication\n",
    "import requests\n",
    "\n",
    "def getEndpoint(access_token, domain, sites, siteName, path):\n",
    "\n",
    "    # Assuming you have an access token\n",
    "    headers = {\n",
    "        \"Authorization\": access_token\n",
    "    }\n",
    "\n",
    "    # Get site by URL\n",
    "    URL = f\"https://graph.microsoft.com/v1.0/sites/{domain}.sharepoint.com:/{sites}/{siteName}\"\n",
    "    site_response = requests.get(URL, headers=headers)\n",
    "    site_id = site_response.json().get('id')\n",
    "\n",
    "    # Get default drive of the site\n",
    "    drive_response = requests.get(\n",
    "        f'https://graph.microsoft.com/v1.0/sites/{site_id}/drive',\n",
    "        headers=headers\n",
    "    )\n",
    "    drive_id = drive_response.json().get('id')\n",
    "\n",
    "    # print(\"Site ID:\", site_id)\n",
    "    # print(\"Drive ID:\", drive_id)\n",
    "    endpoint = f\"https://graph.microsoft.com/v1.0/sites/{site_id}/drives/{drive_id}/root:/{path}:/content\"\n",
    "\n",
    "    return endpoint\n",
    "\n",
    "\n",
    "def onedrive_file_upload(token_response, domain, sites, siteName, onedrive_path, localFile):\n",
    "    if \"access_token\" in token_response:\n",
    "        access_token = token_response['access_token']\n",
    "\n",
    "        endpoint = getEndpoint(access_token, domain, sites, siteName, onedrive_path)\n",
    "\n",
    "        headers = {\n",
    "            \"Authorization\": \"Bearer \" + access_token,\n",
    "            \"Content-Type\": \"application/zip\"  # Change according to your file type\n",
    "        }\n",
    "\n",
    "        # Read the file content to upload\n",
    "        file_content = open(localFile, 'rb').read()  # Modify the file path and mode as needed\n",
    "\n",
    "        # Make the HTTP request to upload the file\n",
    "        response = requests.put(endpoint, headers=headers, data=file_content)\n",
    "\n",
    "        if response.status_code == 201:\n",
    "            print(\"File uploaded successfully.\")\n",
    "            print(response.json())\n",
    "        elif response.status_code == 200:\n",
    "            print(\"Failed to upload file. File already exists.\")\n",
    "        else:\n",
    "            print(\"Failed to upload file.\")\n",
    "            print(response.status_code, response.text)\n",
    "    else:\n",
    "        print(\"Failed to obtain token.\")\n",
    "        print(token_response.get(\"error\"), token_response.get(\"error_description\"))\n",
    "\n",
    "\n",
    "def onedrive_file_download(token_response, onedrive_path, localFile):\n",
    "    if \"access_token\" in token_response:\n",
    "        access_token = token_response['access_token']\n",
    "\n",
    "        # Build the endpoint for downloading the file from OneDrive\n",
    "        endpoint = f\"https://graph.microsoft.com/v1.0/me/drive/root:/{onedrive_path}:/content\"\n",
    "\n",
    "        headers = {\n",
    "            \"Authorization\": \"Bearer \" + access_token,\n",
    "        }\n",
    "\n",
    "        # Make the HTTP request to download the file\n",
    "        response = requests.get(endpoint, headers=headers, stream=True)\n",
    "\n",
    "        if response.status_code == 200:\n",
    "            # Save the downloaded content to a file\n",
    "            with open(localFile, 'wb') as f:\n",
    "                for chunk in response.iter_content(chunk_size=8192):\n",
    "                    f.write(chunk)\n",
    "            print(\"File downloaded successfully.\")\n",
    "        else:\n",
    "            print(\"Failed to download file.\")\n",
    "            print(response.status_code, response.text)\n",
    "    else:\n",
    "        print(\"Failed to obtain token.\")\n",
    "        print(token_response.get(\"error\"), token_response.get(\"error_description\"))"
   ]
  },
  {
   "cell_type": "code",
   "execution_count": 2,
   "metadata": {},
   "outputs": [
    {
     "name": "stdout",
     "output_type": "stream",
     "text": [
      "Opening in existing browser session.\n"
     ]
    }
   ],
   "source": [
    "from msal import PublicClientApplication\n",
    "\n",
    "domain = \"iiitaphyd-my\"\n",
    "sites = \"personal\"\n",
    "siteName = \"prakhar_jain_research_iiit_ac_in\"\n",
    "onedrive_path = \"Phoenix Backup System/main.zip\"\n",
    "\n",
    "app = PublicClientApplication(\n",
    "    client_id='ea6616ef-72cb-49c3-8d8b-b35324b7f5c4',  # Replace with your client ID\n",
    "    authority='https://login.microsoftonline.com/031a3bbc-cf7c-4e2b-96ec-867555540a1c',  # Replace with your tenant ID\n",
    "    # redirect_uri='http://localhost:8000'  # Replace with your redirect \n",
    ")\n",
    "\n",
    "# Include the required scopes\n",
    "scopes = [\"Files.ReadWrite\", \"User.Read\", \"Files.ReadWrite.All\"]\n",
    "token_response = app.acquire_token_interactive(scopes)"
   ]
  },
  {
   "cell_type": "code",
   "execution_count": 4,
   "metadata": {},
   "outputs": [
    {
     "name": "stdout",
     "output_type": "stream",
     "text": [
      "{'token_type': 'Bearer', 'scope': 'Files.ReadWrite Files.ReadWrite.All openid profile User.Read email', 'expires_in': 5113, 'ext_expires_in': 5113, 'access_token': 'eyJ0eXAiOiJKV1QiLCJub25jZSI6Ii1vTk9rOG5FVVl3VGYtRGViWjBpdzhfNUNzb2FqQU02dEpWdEFlVDYzd00iLCJhbGciOiJSUzI1NiIsIng1dCI6InEtMjNmYWxldlpoaEQzaG05Q1Fia1A1TVF5VSIsImtpZCI6InEtMjNmYWxldlpoaEQzaG05Q1Fia1A1TVF5VSJ9.eyJhdWQiOiIwMDAwMDAwMy0wMDAwLTAwMDAtYzAwMC0wMDAwMDAwMDAwMDAiLCJpc3MiOiJodHRwczovL3N0cy53aW5kb3dzLm5ldC8wMzFhM2JiYy1jZjdjLTRlMmItOTZlYy04Njc1NTU1NDBhMWMvIiwiaWF0IjoxNzEzODczNDkxLCJuYmYiOjE3MTM4NzM0OTEsImV4cCI6MTcxMzg3ODkwNSwiYWNjdCI6MCwiYWNyIjoiMSIsImFpbyI6IkFUUUF5LzhXQUFBQXFGZXY5b05Qd24vQThwYVNLYUdpS2xNL2czOE0xNzNlaERpTG1hU1ZpRFpITkp1Z0pKNklTN1QvT3JXaDFxd0IiLCJhbXIiOlsicHdkIl0sImFwcF9kaXNwbGF5bmFtZSI6IlBob2VuaXggQmFja3VwIFN5c3RlbSIsImFwcGlkIjoiZWE2NjE2ZWYtNzJjYi00OWMzLThkOGItYjM1MzI0YjdmNWM0IiwiYXBwaWRhY3IiOiIwIiwiZmFtaWx5X25hbWUiOiJKYWluIiwiZ2l2ZW5fbmFtZSI6IlByYWtoYXIiLCJpZHR5cCI6InVzZXIiLCJpcGFkZHIiOiIxNC4xMzkuODIuNiIsIm5hbWUiOiJQcmFraGFyIEphaW4iLCJvaWQiOiJiNGIyOTM4ZS04MjAyLTRmODktYjJiZC0xZGIyYmM4OTZiY2YiLCJwbGF0ZiI6IjgiLCJwdWlkIjoiMTAwMzIwMDIxM0Y1RTM5NyIsInJoIjoiMC5BVk1BdkRzYUEzelBLMDZXN0laMVZWUUtIQU1BQUFBQUFBQUF3QUFBQUFBQUFBREZBSUUuIiwic2NwIjoiRmlsZXMuUmVhZFdyaXRlIEZpbGVzLlJlYWRXcml0ZS5BbGwgb3BlbmlkIHByb2ZpbGUgVXNlci5SZWFkIGVtYWlsIiwic2lnbmluX3N0YXRlIjpbImlua25vd25udHdrIl0sInN1YiI6IjJHRnlVMWg5SlpVZzJMc1hmSmtHUWtKRmZhWUN0NHI5SmtQU0UyLVNBNHMiLCJ0ZW5hbnRfcmVnaW9uX3Njb3BlIjoiQVMiLCJ0aWQiOiIwMzFhM2JiYy1jZjdjLTRlMmItOTZlYy04Njc1NTU1NDBhMWMiLCJ1bmlxdWVfbmFtZSI6InByYWtoYXIuamFpbkByZXNlYXJjaC5paWl0LmFjLmluIiwidXBuIjoicHJha2hhci5qYWluQHJlc2VhcmNoLmlpaXQuYWMuaW4iLCJ1dGkiOiJNMnZBdVdfTWlVR0NCb1BYeEJzRUFRIiwidmVyIjoiMS4wIiwid2lkcyI6WyJiNzlmYmY0ZC0zZWY5LTQ2ODktODE0My03NmIxOTRlODU1MDkiXSwieG1zX3N0Ijp7InN1YiI6IjM4S2ZhMlpISlhhcWVXam9zUlVpcEtteWtRY3pDdmh6SDF0WDJOM3lYVmMifSwieG1zX3RjZHQiOjEzNjIwNDUxOTF9.Ee-OV1umi4yiSyHj30IJSmk_lP2_OwU_ZvocGaG0qwmNKMFNgFRbDWLXx1DZJPMRDxPCG98NJUuWs5BhmRhZOzyACIU5JRh1UMjQXs46IIYvnp8AR3cCIzBOkpebCsj12PVslf2w_j2LRaMI6e7eSH85tt7dsi9Zu-mknyYR9py2J33CEjWYsSUdhOq_nmuk4NI6_8xA1Hq32uA8ntvpFTb0TTXCMQCwgwekybuYCJK_7WFJhO7mpuTYjqcubRldPms_4ZA4dpT6LjlpR7n7MILu3MlMovDyzbxYQ0OjaBEYrUkq39pjxbMidIJ2sXBpjf57KYY0UaxovUuTTvhmow', 'refresh_token': '0.AVMAvDsaA3zPK06W7IZ1VVQKHO8WZurLcsNJjYuzUyS39cTFAIE.AgABAwEAAADnfolhJpSnRYB1SVj-Hgd8AgDs_wUA9P_kho5ZaYCPmWCIypR1YUKxsV3hqmfMw8N4ZHkPGBKOal7-pe2fSE4i5hIxHyXhNMYugwb7Cwe1ZJj09UdxG1RRxDxtnrRek8XSH05IbfiFOoYGEtEA_BFgXnt-nYrW3oJXKfXy0ampH1mr5N6ayBxWQYdxzZaL35KMyXi3woTgaUkAV11o8DW4pX4f_VEp0G60KDc9hyHdg6o3OZjFWARuccs33LbcIogWiju8DdE1xguFhq4LRs1D-3IvzDRWX2ty2EjhaON9YnXY_qHOL_AQB8HcXWyELoPOb8TMC3G3ZDGachA5601Hlq4YVLvkc56RFNjVrq4s5Lw5QNPnn6Iq3ExRV_dSO_QH1wsaPVTjrfaKB_JLMSKg3FZYN6H_HGzOc9nXeHFjOXpY_sTdxhxnWUwds2wc7B5ydvdVQfiHDp4qs6t6wh8jrUqx0rg-ZBB5ZDBVnqMbKnpOcwa-9W4w6OSy7Cvqu8IyzTChAJa2ENcMzfdal7oLkaY7dYq8YWwdZyq-meTsOG6mEnLfw-potZ4kgXgXMWVkwxmYRAHR0JUYiZrx3A-5GlABUEFC7rSo-Lbx0t6M7Ih44Y-fNaLo8emXAjcBHB1YJuOGH_9yMnhl3u4pI8Zg-MESGY3O3mYTkPIo0h29dczSIe9oxH8zZtx1rMjz7MgpUzaZK4y2mgKDiF1XHNnyML1NZS4BddfGOwdNP0_InusydJziD99ZcEo07k3gWDCrbeDWVgVMDIDjXx_s4Hwqp7cuniafLdaK_arZsQdy-QFFQqF7WRYwtsAhhk-SZ82CHDCXFRnCCcU3RFa4DvGVKrbU7wgK2L649brg5F85KcSeXRwpbpZDPGgEz8qHRyUHqvHqev1Xb8YOHyEFvnsQAxJ_Z7BL8asV', 'id_token': 'eyJ0eXAiOiJKV1QiLCJhbGciOiJSUzI1NiIsImtpZCI6InEtMjNmYWxldlpoaEQzaG05Q1Fia1A1TVF5VSJ9.eyJhdWQiOiJlYTY2MTZlZi03MmNiLTQ5YzMtOGQ4Yi1iMzUzMjRiN2Y1YzQiLCJpc3MiOiJodHRwczovL2xvZ2luLm1pY3Jvc29mdG9ubGluZS5jb20vMDMxYTNiYmMtY2Y3Yy00ZTJiLTk2ZWMtODY3NTU1NTQwYTFjL3YyLjAiLCJpYXQiOjE3MTM4NzM0OTEsIm5iZiI6MTcxMzg3MzQ5MSwiZXhwIjoxNzEzODc3MzkxLCJuYW1lIjoiUHJha2hhciBKYWluIiwibm9uY2UiOiI4MzQ3MDE3MTNlZGJmZTlkNzdjMjhlOGUzODYyYjk2NDk2MmRhZGUxNzVmNTc0MWY0Mzc0ZGQ0M2NjNWM0OWE4Iiwib2lkIjoiYjRiMjkzOGUtODIwMi00Zjg5LWIyYmQtMWRiMmJjODk2YmNmIiwicHJlZmVycmVkX3VzZXJuYW1lIjoicHJha2hhci5qYWluQHJlc2VhcmNoLmlpaXQuYWMuaW4iLCJyaCI6IjAuQVZNQXZEc2FBM3pQSzA2VzdJWjFWVlFLSE84V1p1ckxjc05Kall1elV5UzM5Y1RGQUlFLiIsInN1YiI6IjM4S2ZhMlpISlhhcWVXam9zUlVpcEtteWtRY3pDdmh6SDF0WDJOM3lYVmMiLCJ0aWQiOiIwMzFhM2JiYy1jZjdjLTRlMmItOTZlYy04Njc1NTU1NDBhMWMiLCJ1dGkiOiJNMnZBdVdfTWlVR0NCb1BYeEJzRUFRIiwidmVyIjoiMi4wIn0.DUsRUOigrh1a91mkZQEXoObe0JujGPi-HosO-gF6oUMTIssOWRQSdKi_o9Z2jb3SxuM6WGTUhGoBTA8GTgmDtCCHjtjFwb24jGUCBjqyhGV2Zk9D6Zl5850vd1MzCS20gtr4745zfexgCsHmUXcGxCJEVChhon84yLV3KGBbeAqxaeOlpR5nL-47e-gWuFa9ygyb9UpYWmyf4VWUU6MLCY91LCmEBjYOs2-7yIdZ8ja1-z_fACEkA6eJnDqRuqnTOFO7rXDCTC_7rNlGqXdpkxBPdnHNo2aZheFWg4Ql1RHCMq90iQS03e8aV9REpG3gxuSJFY5ix_j96n5-uQDwKw', 'client_info': 'eyJ1aWQiOiJiNGIyOTM4ZS04MjAyLTRmODktYjJiZC0xZGIyYmM4OTZiY2YiLCJ1dGlkIjoiMDMxYTNiYmMtY2Y3Yy00ZTJiLTk2ZWMtODY3NTU1NTQwYTFjIn0', 'id_token_claims': {'aud': 'ea6616ef-72cb-49c3-8d8b-b35324b7f5c4', 'iss': 'https://login.microsoftonline.com/031a3bbc-cf7c-4e2b-96ec-867555540a1c/v2.0', 'iat': 1713873491, 'nbf': 1713873491, 'exp': 1713877391, 'name': 'Prakhar Jain', 'nonce': '834701713edbfe9d77c28e8e3862b964962dade175f5741f4374dd43cc5c49a8', 'oid': 'b4b2938e-8202-4f89-b2bd-1db2bc896bcf', 'preferred_username': 'prakhar.jain@research.iiit.ac.in', 'rh': '0.AVMAvDsaA3zPK06W7IZ1VVQKHO8WZurLcsNJjYuzUyS39cTFAIE.', 'sub': '38Kfa2ZHJXaqeWjosRUipKmykQczCvhzH1tX2N3yXVc', 'tid': '031a3bbc-cf7c-4e2b-96ec-867555540a1c', 'uti': 'M2vAuW_MiUGCBoPXxBsEAQ', 'ver': '2.0'}, 'token_source': 'identity_provider'}\n"
     ]
    }
   ],
   "source": [
    "print(token_response)"
   ]
  },
  {
   "cell_type": "code",
   "execution_count": 3,
   "metadata": {},
   "outputs": [
    {
     "name": "stdout",
     "output_type": "stream",
     "text": [
      "Failed to upload file. File already exists.\n"
     ]
    }
   ],
   "source": [
    "localFileToUpload = '/home/prakhar/Desktop/3-2/Software Engineering/Projects/SE_Project_3/main.zip'\n",
    "onedrive_file_upload(token_response, domain, sites, siteName, onedrive_path, localFileToUpload)"
   ]
  },
  {
   "cell_type": "code",
   "execution_count": null,
   "metadata": {},
   "outputs": [],
   "source": [
    "localFileToDownload = 'data/downloaded_example7.zip'\n",
    "onedrive_file_download(token_response, onedrive_path, localFileToDownload)"
   ]
  },
  {
   "cell_type": "code",
   "execution_count": null,
   "metadata": {},
   "outputs": [],
   "source": []
  }
 ],
 "metadata": {
  "kernelspec": {
   "display_name": "Python 3 (ipykernel)",
   "language": "python",
   "name": "python3"
  },
  "language_info": {
   "codemirror_mode": {
    "name": "ipython",
    "version": 3
   },
   "file_extension": ".py",
   "mimetype": "text/x-python",
   "name": "python",
   "nbconvert_exporter": "python",
   "pygments_lexer": "ipython3",
   "version": "3.10.14"
  }
 },
 "nbformat": 4,
 "nbformat_minor": 2
}
