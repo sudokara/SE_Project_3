{
 "cells": [
  {
   "cell_type": "code",
   "execution_count": 11,
   "metadata": {},
   "outputs": [
    {
     "data": {
      "text/plain": [
       "7"
      ]
     },
     "execution_count": 11,
     "metadata": {},
     "output_type": "execute_result"
    }
   ],
   "source": [
    "7"
   ]
  },
  {
   "cell_type": "markdown",
   "metadata": {},
   "source": [
    "## Gdrive"
   ]
  },
  {
   "cell_type": "code",
   "execution_count": 2,
   "metadata": {},
   "outputs": [
    {
     "name": "stdout",
     "output_type": "stream",
     "text": [
      "Defaulting to user installation because normal site-packages is not writeable\n",
      "Collecting google-api-python-client\n",
      "  Downloading google_api_python_client-2.126.0-py2.py3-none-any.whl (12.6 MB)\n",
      "     ---------------------------------------- 12.6/12.6 MB 1.2 MB/s eta 0:00:00\n",
      "Collecting google-auth-httplib2\n",
      "  Downloading google_auth_httplib2-0.2.0-py2.py3-none-any.whl (9.3 kB)\n",
      "Collecting google-auth-oauthlib\n",
      "  Downloading google_auth_oauthlib-1.2.0-py2.py3-none-any.whl (24 kB)\n",
      "Collecting google-api-core!=2.0.*,!=2.1.*,!=2.2.*,!=2.3.0,<3.0.0.dev0,>=1.31.5\n",
      "  Downloading google_api_core-2.18.0-py3-none-any.whl (138 kB)\n",
      "     ------------------------------------ 138.3/138.3 kB 547.2 kB/s eta 0:00:00\n",
      "Collecting httplib2<1.dev0,>=0.19.0\n",
      "  Downloading httplib2-0.22.0-py3-none-any.whl (96 kB)\n",
      "     -------------------------------------- 96.9/96.9 kB 692.9 kB/s eta 0:00:00\n",
      "Collecting uritemplate<5,>=3.0.1\n",
      "  Downloading uritemplate-4.1.1-py2.py3-none-any.whl (10 kB)\n",
      "Collecting google-auth!=2.24.0,!=2.25.0,<3.0.0.dev0,>=1.32.0\n",
      "  Downloading google_auth-2.29.0-py2.py3-none-any.whl (189 kB)\n",
      "     ------------------------------------ 189.2/189.2 kB 602.5 kB/s eta 0:00:00\n",
      "Collecting requests-oauthlib>=0.7.0\n",
      "  Downloading requests_oauthlib-2.0.0-py2.py3-none-any.whl (24 kB)\n",
      "Collecting googleapis-common-protos<2.0.dev0,>=1.56.2\n",
      "  Downloading googleapis_common_protos-1.63.0-py2.py3-none-any.whl (229 kB)\n",
      "     ------------------------------------ 229.1/229.1 kB 500.9 kB/s eta 0:00:00\n",
      "Collecting proto-plus<2.0.0dev,>=1.22.3\n",
      "  Downloading proto_plus-1.23.0-py3-none-any.whl (48 kB)\n",
      "     -------------------------------------- 48.8/48.8 kB 189.8 kB/s eta 0:00:00\n",
      "Requirement already satisfied: requests<3.0.0.dev0,>=2.18.0 in c:\\programdata\\anaconda3\\lib\\site-packages (from google-api-core!=2.0.*,!=2.1.*,!=2.2.*,!=2.3.0,<3.0.0.dev0,>=1.31.5->google-api-python-client) (2.28.1)\n",
      "Collecting protobuf!=3.20.0,!=3.20.1,!=4.21.0,!=4.21.1,!=4.21.2,!=4.21.3,!=4.21.4,!=4.21.5,<5.0.0.dev0,>=3.19.5\n",
      "  Downloading protobuf-4.25.3-cp39-cp39-win_amd64.whl (413 kB)\n",
      "     ------------------------------------ 413.4/413.4 kB 806.2 kB/s eta 0:00:00\n",
      "Collecting rsa<5,>=3.1.4\n",
      "  Downloading rsa-4.9-py3-none-any.whl (34 kB)\n",
      "Requirement already satisfied: pyasn1-modules>=0.2.1 in c:\\programdata\\anaconda3\\lib\\site-packages (from google-auth!=2.24.0,!=2.25.0,<3.0.0.dev0,>=1.32.0->google-api-python-client) (0.2.8)\n",
      "Collecting cachetools<6.0,>=2.0.0\n",
      "  Downloading cachetools-5.3.3-py3-none-any.whl (9.3 kB)\n",
      "Requirement already satisfied: pyparsing!=3.0.0,!=3.0.1,!=3.0.2,!=3.0.3,<4,>=2.4.2 in c:\\programdata\\anaconda3\\lib\\site-packages (from httplib2<1.dev0,>=0.19.0->google-api-python-client) (3.0.9)\n",
      "Collecting oauthlib>=3.0.0\n",
      "  Downloading oauthlib-3.2.2-py3-none-any.whl (151 kB)\n",
      "     ------------------------------------ 151.7/151.7 kB 822.4 kB/s eta 0:00:00\n",
      "Requirement already satisfied: pyasn1<0.5.0,>=0.4.6 in c:\\programdata\\anaconda3\\lib\\site-packages (from pyasn1-modules>=0.2.1->google-auth!=2.24.0,!=2.25.0,<3.0.0.dev0,>=1.32.0->google-api-python-client) (0.4.8)\n",
      "Requirement already satisfied: idna<4,>=2.5 in c:\\programdata\\anaconda3\\lib\\site-packages (from requests<3.0.0.dev0,>=2.18.0->google-api-core!=2.0.*,!=2.1.*,!=2.2.*,!=2.3.0,<3.0.0.dev0,>=1.31.5->google-api-python-client) (3.3)\n",
      "Requirement already satisfied: urllib3<1.27,>=1.21.1 in c:\\programdata\\anaconda3\\lib\\site-packages (from requests<3.0.0.dev0,>=2.18.0->google-api-core!=2.0.*,!=2.1.*,!=2.2.*,!=2.3.0,<3.0.0.dev0,>=1.31.5->google-api-python-client) (1.26.11)\n",
      "Requirement already satisfied: certifi>=2017.4.17 in c:\\programdata\\anaconda3\\lib\\site-packages (from requests<3.0.0.dev0,>=2.18.0->google-api-core!=2.0.*,!=2.1.*,!=2.2.*,!=2.3.0,<3.0.0.dev0,>=1.31.5->google-api-python-client) (2022.9.14)\n",
      "Requirement already satisfied: charset-normalizer<3,>=2 in c:\\programdata\\anaconda3\\lib\\site-packages (from requests<3.0.0.dev0,>=2.18.0->google-api-core!=2.0.*,!=2.1.*,!=2.2.*,!=2.3.0,<3.0.0.dev0,>=1.31.5->google-api-python-client) (2.0.4)\n",
      "Installing collected packages: uritemplate, rsa, protobuf, oauthlib, httplib2, cachetools, requests-oauthlib, proto-plus, googleapis-common-protos, google-auth, google-auth-oauthlib, google-auth-httplib2, google-api-core, google-api-python-client\n",
      "Successfully installed cachetools-5.3.3 google-api-core-2.18.0 google-api-python-client-2.126.0 google-auth-2.29.0 google-auth-httplib2-0.2.0 google-auth-oauthlib-1.2.0 googleapis-common-protos-1.63.0 httplib2-0.22.0 oauthlib-3.2.2 proto-plus-1.23.0 protobuf-4.25.3 requests-oauthlib-2.0.0 rsa-4.9 uritemplate-4.1.1\n"
     ]
    },
    {
     "name": "stderr",
     "output_type": "stream",
     "text": [
      "  WARNING: The scripts pyrsa-decrypt.exe, pyrsa-encrypt.exe, pyrsa-keygen.exe, pyrsa-priv2pub.exe, pyrsa-sign.exe and pyrsa-verify.exe are installed in 'C:\\Users\\user\\AppData\\Roaming\\Python\\Python39\\Scripts' which is not on PATH.\n",
      "  Consider adding this directory to PATH or, if you prefer to suppress this warning, use --no-warn-script-location.\n",
      "  WARNING: The script google-oauthlib-tool.exe is installed in 'C:\\Users\\user\\AppData\\Roaming\\Python\\Python39\\Scripts' which is not on PATH.\n",
      "  Consider adding this directory to PATH or, if you prefer to suppress this warning, use --no-warn-script-location.\n"
     ]
    }
   ],
   "source": [
    "!pip install --upgrade google-api-python-client google-auth-httplib2 google-auth-oauthlib"
   ]
  },
  {
   "cell_type": "code",
   "execution_count": 23,
   "metadata": {},
   "outputs": [],
   "source": [
    "from google.oauth2.credentials import Credentials\n",
    "from google_auth_oauthlib.flow import InstalledAppFlow\n",
    "from google.auth.transport.requests import Request\n",
    "from googleapiclient.discovery import build\n",
    "from googleapiclient.http import MediaFileUpload\n",
    "import os\n",
    "from googleapiclient.http import MediaIoBaseDownload\n",
    "import io\n",
    "import pandas as pd\n",
    "\n",
    "# Scopes required by the app\n",
    "\n",
    "def get_service():\n",
    "    SCOPES = ['https://www.googleapis.com/auth/drive.file']\n",
    "\n",
    "    creds = None\n",
    "    # The file token.json stores the user's access and refresh tokens, and is\n",
    "    # created automatically when the authorization flow completes for the first time.\n",
    "    if os.path.exists('token.json'):\n",
    "        creds = Credentials.from_authorized_user_file('token.json', SCOPES)\n",
    "    # If there are no (valid) credentials available, let the user log in.\n",
    "    if not creds or not creds.valid:\n",
    "        if creds and creds.expired and creds.refresh_token:\n",
    "            creds.refresh(Request())\n",
    "        else:\n",
    "            flow = InstalledAppFlow.from_client_secrets_file(\n",
    "                'credentials.json', SCOPES)\n",
    "            creds = flow.run_local_server(port=0)\n",
    "        # Save the credentials for the next run\n",
    "        with open('token.json', 'w') as token:\n",
    "            token.write(creds.to_json())\n",
    "\n",
    "    service = build('drive', 'v3', credentials=creds)\n",
    "    return service\n",
    "\n",
    "\n",
    "def gdrive_file_upload(filename, gdrive_folder_id):\n",
    "    service = get_service()\n",
    "\n",
    "    # File to upload\n",
    "    file_metadata = {'name': filename, 'parents': [gdrive_folder_id]}\n",
    "    media = MediaFileUpload(filename, mimetype='application/zip')\n",
    "    file = service.files().create(body=file_metadata,\n",
    "                                    media_body=media,\n",
    "                                    fields='id').execute()\n",
    "    file_id = file.get('id')\n",
    "    csv_file = 'log.csv'\n",
    "\n",
    "    df = pd.DataFrame(columns=['File Name', 'File ID', 'time'])\n",
    "    df = df.append({'File Name': filename, 'File ID': file_id, 'time': pd.Timestamp.now()}, ignore_index=True)\n",
    "    if os.path.exists(csv_file):\n",
    "        df.to_csv(csv_file, mode='a', header=False, index=False)\n",
    "    \n",
    "    return file.get('id')\n",
    "\n",
    "def gdrive_file_download(filename, gdrive_file_id):\n",
    "    service = get_service()\n",
    "    request = service.files().get_media(fileId=gdrive_file_id)\n",
    "    \n",
    "    # Replace 'filename' with the path where you want to save the downloaded file\n",
    "    fh = io.FileIO(filename, mode='wb')\n",
    "    downloader = MediaIoBaseDownload(fh, request)\n",
    "    \n",
    "    done = False\n",
    "    while not done:\n",
    "        status, done = downloader.next_chunk()\n",
    "        print(\"Download Progress: {0}\".format(status.progress() * 100))\n",
    "\n",
    "    fh.close()\n",
    "    print(\"File has been downloaded successfully.\")\n",
    "\n"
   ]
  },
  {
   "cell_type": "code",
   "execution_count": 26,
   "metadata": {},
   "outputs": [
    {
     "name": "stdout",
     "output_type": "stream",
     "text": [
      "File has been uploaded successfully. File ID: 1UIrOrxgAfFdjPdUugqhTBojY29CtXGEm\n"
     ]
    },
    {
     "name": "stderr",
     "output_type": "stream",
     "text": [
      "C:\\Users\\user\\AppData\\Local\\Temp\\ipykernel_12816\\2523878073.py:50: FutureWarning: The frame.append method is deprecated and will be removed from pandas in a future version. Use pandas.concat instead.\n",
      "  df = df.append({'File Name': filename, 'File ID': file_id, 'time': pd.Timestamp.now()}, ignore_index=True)\n"
     ]
    }
   ],
   "source": [
    "file = 'data/example1.zip'\n",
    "gdrive_folder_id = '1te7ArAHuMquqmWhjmO-FniTE47O4mts7'\n",
    "uploaded_file_id = gdrive_file_upload(file, gdrive_folder_id)\n",
    "print(f\"File has been uploaded successfully. File ID: {uploaded_file_id}\")"
   ]
  },
  {
   "cell_type": "code",
   "execution_count": 27,
   "metadata": {},
   "outputs": [
    {
     "name": "stdout",
     "output_type": "stream",
     "text": [
      "Download Progress: 100.0\n",
      "File has been downloaded successfully.\n"
     ]
    }
   ],
   "source": [
    "file = 'data/filename.zip'\n",
    "gdrive_file_id = uploaded_file_id\n",
    "gdrive_file_download(file, gdrive_file_id)"
   ]
  },
  {
   "cell_type": "markdown",
   "metadata": {},
   "source": [
    "## Azure"
   ]
  },
  {
   "cell_type": "code",
   "execution_count": 28,
   "metadata": {},
   "outputs": [
    {
     "name": "stdout",
     "output_type": "stream",
     "text": [
      "Defaulting to user installation because normal site-packages is not writeableNote: you may need to restart the kernel to use updated packages.\n",
      "\n",
      "Collecting msal\n",
      "  Downloading msal-1.28.0-py3-none-any.whl (102 kB)\n",
      "     ------------------------------------ 102.2/102.2 kB 309.5 kB/s eta 0:00:00\n",
      "Requirement already satisfied: cryptography<45,>=0.6 in c:\\programdata\\anaconda3\\lib\\site-packages (from msal) (37.0.1)\n",
      "Requirement already satisfied: PyJWT[crypto]<3,>=1.0.0 in c:\\programdata\\anaconda3\\lib\\site-packages (from msal) (2.4.0)\n",
      "Requirement already satisfied: requests<3,>=2.0.0 in c:\\programdata\\anaconda3\\lib\\site-packages (from msal) (2.28.1)\n",
      "Requirement already satisfied: cffi>=1.12 in c:\\programdata\\anaconda3\\lib\\site-packages (from cryptography<45,>=0.6->msal) (1.15.1)\n",
      "Requirement already satisfied: certifi>=2017.4.17 in c:\\programdata\\anaconda3\\lib\\site-packages (from requests<3,>=2.0.0->msal) (2022.9.14)\n",
      "Requirement already satisfied: charset-normalizer<3,>=2 in c:\\programdata\\anaconda3\\lib\\site-packages (from requests<3,>=2.0.0->msal) (2.0.4)\n",
      "Requirement already satisfied: idna<4,>=2.5 in c:\\programdata\\anaconda3\\lib\\site-packages (from requests<3,>=2.0.0->msal) (3.3)\n",
      "Requirement already satisfied: urllib3<1.27,>=1.21.1 in c:\\programdata\\anaconda3\\lib\\site-packages (from requests<3,>=2.0.0->msal) (1.26.11)\n",
      "Requirement already satisfied: pycparser in c:\\programdata\\anaconda3\\lib\\site-packages (from cffi>=1.12->cryptography<45,>=0.6->msal) (2.21)\n",
      "Installing collected packages: msal\n",
      "Successfully installed msal-1.28.0\n"
     ]
    }
   ],
   "source": [
    "%pip install msal"
   ]
  },
  {
   "cell_type": "code",
   "execution_count": 1,
   "metadata": {},
   "outputs": [],
   "source": [
    "from msal import PublicClientApplication\n",
    "import requests\n",
    "\n",
    "def getEndpoint(access_token, domain, sites, siteName, path):\n",
    "\n",
    "    # Assuming you have an access token\n",
    "    headers = {\n",
    "        \"Authorization\": access_token\n",
    "    }\n",
    "\n",
    "    # Get site by URL\n",
    "    URL = f\"https://graph.microsoft.com/v1.0/sites/{domain}.sharepoint.com:/{sites}/{siteName}\"\n",
    "    site_response = requests.get(URL, headers=headers)\n",
    "    site_id = site_response.json().get('id')\n",
    "\n",
    "    # Get default drive of the site\n",
    "    drive_response = requests.get(\n",
    "        f'https://graph.microsoft.com/v1.0/sites/{site_id}/drive',\n",
    "        headers=headers\n",
    "    )\n",
    "    drive_id = drive_response.json().get('id')\n",
    "\n",
    "    # print(\"Site ID:\", site_id)\n",
    "    # print(\"Drive ID:\", drive_id)\n",
    "    endpoint = f\"https://graph.microsoft.com/v1.0/sites/{site_id}/drives/{drive_id}/root:/{path}:/content\"\n",
    "\n",
    "    return endpoint\n",
    "\n",
    "\n",
    "def onedrive_file_upload(token_response, domain, sites, siteName, onedrive_path, localFile):\n",
    "    if \"access_token\" in token_response:\n",
    "        access_token = token_response['access_token']\n",
    "\n",
    "        endpoint = getEndpoint(access_token, domain, sites, siteName, onedrive_path)\n",
    "\n",
    "        headers = {\n",
    "            \"Authorization\": \"Bearer \" + access_token,\n",
    "            \"Content-Type\": \"application/zip\"  # Change according to your file type\n",
    "        }\n",
    "\n",
    "        # Read the file content to upload\n",
    "        file_content = open(localFile, 'rb').read()  # Modify the file path and mode as needed\n",
    "\n",
    "        # Make the HTTP request to upload the file\n",
    "        response = requests.put(endpoint, headers=headers, data=file_content)\n",
    "\n",
    "        if response.status_code == 201:\n",
    "            print(\"File uploaded successfully.\")\n",
    "            print(response.json())\n",
    "        elif response.status_code == 200:\n",
    "            print(\"Failed to upload file. File already exists.\")\n",
    "        else:\n",
    "            print(\"Failed to upload file.\")\n",
    "            print(response.status_code, response.text)\n",
    "    else:\n",
    "        print(\"Failed to obtain token.\")\n",
    "        print(token_response.get(\"error\"), token_response.get(\"error_description\"))\n",
    "\n",
    "\n",
    "def onedrive_file_download(token_response, onedrive_path, localFile):\n",
    "    if \"access_token\" in token_response:\n",
    "        access_token = token_response['access_token']\n",
    "\n",
    "        # Build the endpoint for downloading the file from OneDrive\n",
    "        endpoint = f\"https://graph.microsoft.com/v1.0/me/drive/root:/{onedrive_path}:/content\"\n",
    "\n",
    "        headers = {\n",
    "            \"Authorization\": \"Bearer \" + access_token,\n",
    "        }\n",
    "\n",
    "        # Make the HTTP request to download the file\n",
    "        response = requests.get(endpoint, headers=headers, stream=True)\n",
    "\n",
    "        if response.status_code == 200:\n",
    "            # Save the downloaded content to a file\n",
    "            with open(localFile, 'wb') as f:\n",
    "                for chunk in response.iter_content(chunk_size=8192):\n",
    "                    f.write(chunk)\n",
    "            print(\"File downloaded successfully.\")\n",
    "        else:\n",
    "            print(\"Failed to download file.\")\n",
    "            print(response.status_code, response.text)\n",
    "    else:\n",
    "        print(\"Failed to obtain token.\")\n",
    "        print(token_response.get(\"error\"), token_response.get(\"error_description\"))"
   ]
  },
  {
   "cell_type": "code",
   "execution_count": 3,
   "metadata": {},
   "outputs": [],
   "source": [
    "from msal import PublicClientApplication\n",
    "\n",
    "domain = \"iiitaphyd-my\"\n",
    "sites = \"personal\"\n",
    "siteName = \"rudra_dhar_research_iiit_ac_in\"\n",
    "onedrive_path = \"IIIT/sem4/SE/project_3/data\"\n",
    "\n",
    "app = PublicClientApplication(\n",
    "    client_id='cae82036-061d-4c94-a773-f9694b8042f0',  # Replace with your client ID\n",
    "    authority='https://login.microsoftonline.com/031a3bbc-cf7c-4e2b-96ec-867555540a1c',  # Replace with your tenant ID\n",
    ")\n",
    "\n",
    "# Include the required scopes\n",
    "scopes = [\"Files.ReadWrite\", \"User.Read\"]\n",
    "token_response = app.acquire_token_interactive(scopes)"
   ]
  },
  {
   "cell_type": "code",
   "execution_count": 4,
   "metadata": {},
   "outputs": [
    {
     "name": "stdout",
     "output_type": "stream",
     "text": [
      "Failed to upload file.\n",
      "400 {\"error\":{\"code\":\"invalidRequest\",\"message\":\"A valid name must be provided.\",\"innerError\":{\"date\":\"2024-04-21T11:02:23\",\"request-id\":\"3a72bd82-e029-4d8d-bb8f-f29aeee0b648\",\"client-request-id\":\"3a72bd82-e029-4d8d-bb8f-f29aeee0b648\"}}}\n"
     ]
    }
   ],
   "source": [
    "localFileToUpload = 'data/example1.zip'\n",
    "onedrive_file_upload(token_response, domain, sites, siteName, onedrive_path, localFileToUpload)"
   ]
  },
  {
   "cell_type": "code",
   "execution_count": null,
   "metadata": {},
   "outputs": [],
   "source": [
    "localFileToDownload = 'data/downloaded_example7.zip'\n",
    "onedrive_file_download(token_response, onedrive_path, localFileToDownload)"
   ]
  }
 ],
 "metadata": {
  "kernelspec": {
   "display_name": "Python 3 (ipykernel)",
   "language": "python",
   "name": "python3"
  },
  "language_info": {
   "codemirror_mode": {
    "name": "ipython",
    "version": 3
   },
   "file_extension": ".py",
   "mimetype": "text/x-python",
   "name": "python",
   "nbconvert_exporter": "python",
   "pygments_lexer": "ipython3",
   "version": "3.9.13"
  }
 },
 "nbformat": 4,
 "nbformat_minor": 2
}
